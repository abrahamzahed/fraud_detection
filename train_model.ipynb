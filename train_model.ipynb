{
 "cells": [
  {
   "cell_type": "code",
   "execution_count": 0,
   "metadata": {
    "application/vnd.databricks.v1+cell": {
     "cellMetadata": {},
     "inputWidgets": {},
     "nuid": "51ca90a2-0f49-4d68-8ac3-2918a1a046e9",
     "showTitle": false,
     "title": ""
    }
   },
   "outputs": [],
   "source": [
    "!pip install requirements.txt"
   ]
  },
  {
   "cell_type": "code",
   "execution_count": 0,
   "metadata": {
    "application/vnd.databricks.v1+cell": {
     "cellMetadata": {},
     "inputWidgets": {},
     "nuid": "c55c795b-db85-46a0-ac6b-b216c835e210",
     "showTitle": false,
     "title": ""
    }
   },
   "outputs": [],
   "source": [
    "import yaml\n",
    "\n",
    "# Load the configuration\n",
    "with open(\"config.yaml\", \"r\") as config_file:\n",
    "    config = yaml.safe_load(config_file)\n",
    "\n",
    "# Access configuration values\n",
    "catalog = config['catalog']\n",
    "schema = config['schema']\n",
    "table = config['table']\n",
    "artifact_path = config['artifact_path']\n",
    "registered_model_name = config['registered_model_name']\n",
    "\n",
    "# Construct full table name\n",
    "full_table_name = f\"{catalog}.{schema}.{table}\""
   ]
  },
  {
   "cell_type": "code",
   "execution_count": 0,
   "metadata": {
    "application/vnd.databricks.v1+cell": {
     "cellMetadata": {},
     "inputWidgets": {},
     "nuid": "39c6d93e-85e2-4c94-a05e-151a70da75c0",
     "showTitle": false,
     "title": ""
    }
   },
   "outputs": [],
   "source": [
    "from databricks.feature_engineering import FeatureEngineeringClient\n",
    "fe = FeatureEngineeringClient(model_registry_uri=\"databricks-uc\")\n",
    "import mlflow\n",
    "import pandas as pd\n",
    "from sklearn.model_selection import train_test_split\n",
    "from sklearn.preprocessing import StandardScaler\n",
    "from sklearn.pipeline import Pipeline\n",
    "from sklearn.compose import ColumnTransformer\n",
    "import xgboost as xgb"
   ]
  },
  {
   "cell_type": "code",
   "execution_count": 0,
   "metadata": {
    "application/vnd.databricks.v1+cell": {
     "cellMetadata": {},
     "inputWidgets": {},
     "nuid": "93f8ec84-6f75-4fc7-8796-c7f454923271",
     "showTitle": false,
     "title": ""
    }
   },
   "outputs": [],
   "source": [
    "transactions_df = fe.read_table(\n",
    "  name=full_table_name,\n",
    ")"
   ]
  },
  {
   "cell_type": "code",
   "execution_count": 0,
   "metadata": {
    "application/vnd.databricks.v1+cell": {
     "cellMetadata": {},
     "inputWidgets": {},
     "nuid": "9ee69ee9-3e77-417e-8bea-f966e16422a4",
     "showTitle": false,
     "title": ""
    }
   },
   "outputs": [],
   "source": [
    "feature_lookups = [\n",
    "    FeatureLookup(\n",
    "      table_name=full_table_name,\n",
    "      feature_names=['Time', 'V1', 'V2', 'V3', 'V4', 'V5', 'V6', 'V7', 'V8', 'V9', 'V10', 'V11', 'V12', 'V13', 'V14', 'V15', 'V16', 'V17', 'V18', 'V19', 'V20', 'V21', 'V22', 'V23', 'V24', 'V25', 'V26', 'V27', 'V28', 'Amount'],\n",
    "      lookup_key='transaction_id',\n",
    "    )\n",
    "  ]\n",
    "\n",
    "with mlflow.start_run():\n",
    "\n",
    "  # df has columns ['customer_id', 'product_id', 'rating']\n",
    "  training_set = fe.create_training_set(\n",
    "    df=transactions_df,\n",
    "    feature_lookups=feature_lookups,\n",
    "    label='Class',\n",
    "    exclude_columns=['transaction_id']\n",
    "  )\n",
    "\n",
    "  training_df = training_set.load_df().toPandas()\n",
    "\n",
    "  # Split the data into features and target\n",
    "  X = df.drop('Class', axis=1)\n",
    "  y = df['Class']\n",
    "  # Split the data into training and testing sets\n",
    "  X_train, X_test, y_train, y_test = train_test_split(X, y, test_size=0.2, random_state=42)\n",
    "\n",
    "  # Define the preprocessing steps\n",
    "  preprocessor = ColumnTransformer(\n",
    "      transformers=[\n",
    "          ('scaler', StandardScaler(), ['V1', 'V3'])\n",
    "      ],\n",
    "      remainder='passthrough'\n",
    "  )\n",
    "\n",
    "  # Create the pipeline\n",
    "  pipeline = Pipeline([\n",
    "      ('preprocessor', preprocessor),\n",
    "      ('classifier', xgb.XGBClassifier(random_state=42))\n",
    "  ])\n",
    "\n",
    "  # Fit the pipeline\n",
    "  pipeline.fit(X_train, y_train)\n",
    "  \n",
    "  # Make predictions\n",
    "  y_pred = pipeline.predict(X_test)\n",
    "\n",
    "  fe.log_model(\n",
    "    model=model,\n",
    "    artifact_path=artifact_path,\n",
    "    flavor=mlflow.sklearn,\n",
    "    training_set=training_set,\n",
    "    registered_model_name=registered_model_name\n",
    "  )"
   ]
  }
 ],
 "metadata": {
  "application/vnd.databricks.v1+notebook": {
   "dashboards": [],
   "environmentMetadata": null,
   "language": "python",
   "notebookMetadata": {
    "pythonIndentUnit": 4
   },
   "notebookName": "train_model",
   "widgets": {}
  }
 },
 "nbformat": 4,
 "nbformat_minor": 0
}
